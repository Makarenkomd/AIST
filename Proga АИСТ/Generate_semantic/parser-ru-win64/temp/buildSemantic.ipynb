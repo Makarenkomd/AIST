{
 "cells": [
  {
   "cell_type": "code",
   "execution_count": null,
   "metadata": {},
   "outputs": [],
   "source": [
    "#parser.exe -parser 0 -lemmatizer 0 -d dictionary.xml temp\\elkr.txt -o temp\\output.xml\n",
    "# создали файл xml по тексту\n"
   ]
  },
  {
   "cell_type": "code",
   "execution_count": 44,
   "metadata": {},
   "outputs": [],
   "source": [
    "import xml.etree.cElementTree as xml\n",
    "#xml_file = xml.parse(\"output.xml\")\n",
    "xml_file = xml.parse(\"mnogoOut.xml\")\n",
    "root = xml_file.getroot()"
   ]
  },
  {
   "cell_type": "code",
   "execution_count": 31,
   "metadata": {},
   "outputs": [
    {
     "data": {
      "text/plain": [
       "'Когда'"
      ]
     },
     "execution_count": 31,
     "metadata": {},
     "output_type": "execute_result"
    }
   ],
   "source": [
    "# первый индекс номер предложения\n",
    "# второй индекс 0 - text, 1 - tokens, 2 - syntax_tree\n",
    "# третий индекс в syntax_tree идет по узлам дерева разбора\n",
    "root[0][2][0][1].text\n"
   ]
  },
  {
   "cell_type": "markdown",
   "metadata": {},
   "source": [
    "## Поиск связей типа DESC на основе шаблонов, где корневым словом выступает глагол вида: означает, называется, "
   ]
  },
  {
   "cell_type": "markdown",
   "metadata": {},
   "source": [
    "### рекурсивный поиск всех объектов, являющихся определением термина"
   ]
  },
  {
   "cell_type": "code",
   "execution_count": 50,
   "metadata": {},
   "outputs": [],
   "source": [
    "def find_DESC_description(sentention, position):\n",
    "    return 'desc'"
   ]
  },
  {
   "cell_type": "markdown",
   "metadata": {},
   "source": [
    "### рекурсивный поиск термина в связи Desc\n",
    "#### рекурсивно обходим все связи начиная с Object, пока не доберемся до существительного"
   ]
  },
  {
   "cell_type": "code",
   "execution_count": 60,
   "metadata": {},
   "outputs": [],
   "source": [
    "def find_DESC_termin(sentention, position):\n",
    "    part_speech = sentence[1][position][3].text\n",
    "#     while part_speech != 'СУЩЕСТВИТЕЛЬНОЕ':\n",
    "#         for node in sentention[2]: \n",
    "#             #не root и node[2]=='parent'\n",
    "#             if  len(node)>3 and node[2].text == position:\n",
    "#                 # node[0] = 'token'\n",
    "#                 find_DESC_termin(sentention, int (node[0].text))\n",
    "    # возвращаем лемму\n",
    "    return sentence[1][position][2].text"
   ]
  },
  {
   "cell_type": "markdown",
   "metadata": {},
   "source": [
    "### основной блок выбора связей DESC"
   ]
  },
  {
   "cell_type": "code",
   "execution_count": 68,
   "metadata": {},
   "outputs": [
    {
     "name": "stdout",
     "output_type": "stream",
     "text": [
      "------------------------------\n",
      "Если поверхности геометрических тел составлены из многоугольников, то такие тела называются многогранниками.\n",
      "------------------------------\n",
      "Многоугольники, из которых составлен многогранник, называются его гранями.\n",
      "!!! называться ГЛАГОЛ 7\n",
      "description =  Многоугольники\n",
      "token =  я\n",
      "token =  грань\n",
      "------------------------------\n",
      "При этом предполагается, что никакие две соседние грани многогранника не лежат в одной плоскости.\n",
      "------------------------------\n",
      "Стороны граней называются рёбрами, а концы рёбер — вершинами многогранника.\n",
      "!!! называться ГЛАГОЛ 2\n",
      "description =  Стороны\n",
      "token =  ребро\n",
      "token =  вершина\n",
      "------------------------------\n",
      "Отрезок, соединяющий две вершины, не принадлежащие одной грани, называется диагональю многогранника.\n",
      "!!! называться ГЛАГОЛ 11\n",
      "description =  Отрезок\n",
      "token =  диагональ\n",
      "------------------------------\n",
      "Многогранники бывают выпуклыми и невыпуклыми.\n"
     ]
    }
   ],
   "source": [
    "pattern_DESC = ['означать','называться','называть']\n",
    "for sentence in root:\n",
    "    print ('-'*30)\n",
    "    print (sentence[0].text)\n",
    "    for node in sentence[2]:# 2 - syntax_tree \n",
    "        #выбор глагола\n",
    "        #print (node.attrib)\n",
    "        if 'is_root' in node.attrib.keys():\n",
    "            position = int (node[0].text)\n",
    "            lemma = sentence[1][position][2].text\n",
    "            verb = node[1].text\n",
    "                \n",
    "    # проверить часть речи - это глагол?\n",
    "    part_speech =sentence[1][position][3].text\n",
    "   \n",
    "    # если глагол из шаблона\n",
    "    if part_speech =='ГЛАГОЛ' and lemma in pattern_DESC:\n",
    "        print ('!!!',lemma, part_speech, position)\n",
    "        # тип OBJECT описывает синтаксическую связь между подлежащим и сказуемым \n",
    "        # термин связан с глаголом этим типом связи\n",
    "        for node in sentence[2]:# 2 - syntax_tree \n",
    "            # если это не root узел и связан с глаголом отвечающим за Desc\n",
    "            if len(node)>3 and node[3].text == verb:\n",
    "                # найден термин\n",
    "                if node[4].text == 'OBJECT':\n",
    "                    #print('!',node[1].text)\n",
    "                    token = find_DESC_termin(sentence,int (node[0].text))\n",
    "                    print ('token = ', token)\n",
    "                # ищем определение термина\n",
    "                if node[4].text == 'SUBJECT':\n",
    "                    descript = find_DESC_description(sentence, int (node[0].text))\n",
    "                    print ('description = ', node[1].text)\n",
    "                    \n",
    "        #for elem in node:\n",
    "            #print (elem.tag, elem.text, node.attrib)\n",
    "            #if \"is_root\" in node.attrib.keys():\n",
    "         #   print(node[1].text)"
   ]
  },
  {
   "cell_type": "code",
   "execution_count": null,
   "metadata": {},
   "outputs": [],
   "source": []
  }
 ],
 "metadata": {
  "kernelspec": {
   "display_name": "Python 3",
   "language": "python",
   "name": "python3"
  },
  "language_info": {
   "codemirror_mode": {
    "name": "ipython",
    "version": 3
   },
   "file_extension": ".py",
   "mimetype": "text/x-python",
   "name": "python",
   "nbconvert_exporter": "python",
   "pygments_lexer": "ipython3",
   "version": "3.6.5"
  }
 },
 "nbformat": 4,
 "nbformat_minor": 2
}
